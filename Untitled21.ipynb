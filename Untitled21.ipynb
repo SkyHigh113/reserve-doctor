{
 "cells": [
  {
   "cell_type": "code",
   "execution_count": 15,
   "metadata": {},
   "outputs": [
    {
     "data": {
      "text/plain": [
       "['내과', '호흡기내과', '소아청소년과']"
      ]
     },
     "execution_count": 15,
     "metadata": {},
     "output_type": "execute_result"
    }
   ],
   "source": [
    "list(Hospital.objects.first().subjects.all().values_list('subject',flat=True))"
   ]
  },
  {
   "cell_type": "code",
   "execution_count": 3,
   "metadata": {},
   "outputs": [
    {
     "name": "stdout",
     "output_type": "stream",
     "text": [
      "소아과\n",
      "이비인후과\n",
      "피부과\n"
     ]
    }
   ],
   "source": [
    "lst = []\n",
    "for hospital in Hospital.objects.all():\n",
    "    print(hospital.name)\n",
    "    dic = {}\n",
    "    dic[\"id\"] = hospital.id\n",
    "    dic[\"name\"] = hospital.name\n",
    "    dic[\"tel\"] = hospital.tel\n",
    "    dic[\"addr\"] = hospital.addr\n",
    "    dic[\"subjects\"] = hospital.GetSubjects()\n",
    "    lst.append(dic)"
   ]
  },
  {
   "cell_type": "code",
   "execution_count": 4,
   "metadata": {},
   "outputs": [
    {
     "name": "stdout",
     "output_type": "stream",
     "text": [
      "[{'id': 1, 'name': '소아과', 'tel': '02-748-78524', 'addr': 'ㅇㅇㅇㅇㅇ', 'subjects': ['내과', '호흡기내과', '소아청소년과']}, {'id': 2, 'name': '이비인후과', 'tel': '123', 'addr': '12343', 'subjects': ['내과', '호흡기내과', '소아청소년과']}, {'id': 3, 'name': '피부과', 'tel': '123', 'addr': '43243', 'subjects': ['내과', '호흡기내과', '소아청소년과']}]\n"
     ]
    }
   ],
   "source": [
    "print(lst)"
   ]
  },
  {
   "cell_type": "code",
   "execution_count": 7,
   "metadata": {},
   "outputs": [
    {
     "data": {
      "text/plain": [
       "<QuerySet [{'name': '소아과', 'subjects': 1}, {'name': '소아과', 'subjects': 4}, {'name': '소아과', 'subjects': 6}, {'name': '이비인후과', 'subjects': 2}, {'name': '이비인후과', 'subjects': 4}, {'name': '피부과', 'subjects': 3}]>"
      ]
     },
     "execution_count": 7,
     "metadata": {},
     "output_type": "execute_result"
    }
   ],
   "source": [
    "Hospital.objects.all().values('name','subjects')"
   ]
  },
  {
   "cell_type": "code",
   "execution_count": null,
   "metadata": {},
   "outputs": [],
   "source": []
  }
 ],
 "metadata": {
  "kernelspec": {
   "display_name": "Django Shell-Plus",
   "language": "python",
   "name": "django_extensions"
  },
  "language_info": {
   "codemirror_mode": {
    "name": "ipython",
    "version": 3
   },
   "file_extension": ".py",
   "mimetype": "text/x-python",
   "name": "python",
   "nbconvert_exporter": "python",
   "pygments_lexer": "ipython3",
   "version": "3.6.3"
  }
 },
 "nbformat": 4,
 "nbformat_minor": 2
}
