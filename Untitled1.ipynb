{
 "cells": [
  {
   "cell_type": "code",
   "execution_count": 1,
   "metadata": {},
   "outputs": [
    {
     "data": {
      "text/plain": [
       "hospital.models.Reserve"
      ]
     },
     "execution_count": 1,
     "metadata": {},
     "output_type": "execute_result"
    }
   ],
   "source": [
    "Reserve"
   ]
  },
  {
   "cell_type": "code",
   "execution_count": 2,
   "metadata": {},
   "outputs": [],
   "source": [
    "reserve_list = list(Reserve.objects.all())"
   ]
  },
  {
   "cell_type": "code",
   "execution_count": 3,
   "metadata": {},
   "outputs": [
    {
     "name": "stdout",
     "output_type": "stream",
     "text": [
      "[<Reserve: Reserve object>, <Reserve: Reserve object>]\n"
     ]
    }
   ],
   "source": [
    "print(reserve_list)"
   ]
  },
  {
   "cell_type": "code",
   "execution_count": 6,
   "metadata": {},
   "outputs": [
    {
     "name": "stdout",
     "output_type": "stream",
     "text": [
      "2018-02-19\n"
     ]
    }
   ],
   "source": [
    "print(reserve_list[0].date)"
   ]
  },
  {
   "cell_type": "code",
   "execution_count": 54,
   "metadata": {},
   "outputs": [
    {
     "data": {
      "text/plain": [
       "<QuerySet [{'id': 1, 'hospital_id': 1, 'user_id': 1, 'date': datetime.date(2018, 2, 19), 'created_at': datetime.datetime(2018, 2, 19, 6, 43, 58, 353619, tzinfo=<UTC>)}, {'id': 2, 'hospital_id': 1, 'user_id': 1, 'date': datetime.date(2018, 2, 19), 'created_at': datetime.datetime(2018, 2, 19, 8, 30, 17, 595421, tzinfo=<UTC>)}]>"
      ]
     },
     "execution_count": 54,
     "metadata": {},
     "output_type": "execute_result"
    }
   ],
   "source": [
    "from datetime import date,time\n",
    "timeList = []\n",
    "#Time.objects.filter(hospital=1).values_list()\n",
    "\n",
    "#for t in Time.objects.filter(hospital=1):\n",
    "#    timeList.append(t)\n",
    "#print(timeList)\n",
    "Reserve.objects.filter(hospital=1).values()"
   ]
  },
  {
   "cell_type": "code",
   "execution_count": 78,
   "metadata": {},
   "outputs": [
    {
     "data": {
      "text/plain": [
       "django.db.models.query.QuerySet"
      ]
     },
     "execution_count": 78,
     "metadata": {},
     "output_type": "execute_result"
    }
   ],
   "source": [
    "##ITEMSET 쿼리\n",
    "#Time.objects.filter(hospital=1).values_list()\n",
    "list = Time.objects.filter(hospital=1).values_list(\"time\",flat=True)\n",
    "type(list)\n",
    "#Reserve.objects.filter(item_set__time__in=list).values()"
   ]
  },
  {
   "cell_type": "code",
   "execution_count": 69,
   "metadata": {},
   "outputs": [
    {
     "data": {
      "text/plain": [
       "<QuerySet [<Time: 18:00:00>, <Time: 00:00:00>]>"
      ]
     },
     "execution_count": 69,
     "metadata": {},
     "output_type": "execute_result"
    }
   ],
   "source": [
    "#Time.objects.filter(hospital=1).values_list('time',flat=True)\n",
    "#Time.objects.filter(hospital=1,time__in=[\"18:00:00\",\"00:00:00\"])\n",
    "Time.objects.filter(hospital=1,time__in=[\"18:00:00\",\"00:00:00\"])\n"
   ]
  },
  {
   "cell_type": "code",
   "execution_count": null,
   "metadata": {},
   "outputs": [],
   "source": []
  }
 ],
 "metadata": {
  "kernelspec": {
   "display_name": "Django Shell-Plus",
   "language": "python",
   "name": "django_extensions"
  },
  "language_info": {
   "codemirror_mode": {
    "name": "ipython",
    "version": 3
   },
   "file_extension": ".py",
   "mimetype": "text/x-python",
   "name": "python",
   "nbconvert_exporter": "python",
   "pygments_lexer": "ipython3",
   "version": "3.6.3"
  }
 },
 "nbformat": 4,
 "nbformat_minor": 2
}
