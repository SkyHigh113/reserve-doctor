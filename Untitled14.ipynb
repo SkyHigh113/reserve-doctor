{
 "cells": [
  {
   "cell_type": "code",
   "execution_count": 10,
   "metadata": {},
   "outputs": [
    {
     "data": {
      "text/plain": [
       "<QuerySet []>"
      ]
     },
     "execution_count": 10,
     "metadata": {},
     "output_type": "execute_result"
    }
   ],
   "source": [
    "Time.objects.filter(hospital_id=1,reserve__date='2018-02-22',reserve__doctor_id='2')"
   ]
  },
  {
   "cell_type": "code",
   "execution_count": 9,
   "metadata": {},
   "outputs": [
    {
     "data": {
      "text/plain": [
       "<QuerySet [{'id': 1, 'hospital_id': 1, 'name': '김개똥'}, {'id': 2, 'hospital_id': 2, 'name': '김이빈'}, {'id': 3, 'hospital_id': 3, 'name': '김피부'}, {'id': 4, 'hospital_id': 1, 'name': '김소아'}]>"
      ]
     },
     "execution_count": 9,
     "metadata": {},
     "output_type": "execute_result"
    }
   ],
   "source": [
    "Doctor.objects.all().values()"
   ]
  },
  {
   "cell_type": "code",
   "execution_count": 24,
   "metadata": {},
   "outputs": [
    {
     "data": {
      "text/plain": [
       "<QuerySet [(3, datetime.time(0, 0)), (5, datetime.time(0, 0)), (1, datetime.time(6, 0)), (4, datetime.time(9, 54, 3)), (6, datetime.time(10, 9, 24)), (2, datetime.time(18, 0)), (7, datetime.time(18, 0))]>"
      ]
     },
     "execution_count": 24,
     "metadata": {},
     "output_type": "execute_result"
    }
   ],
   "source": [
    "Time.objects.all().values_list('id','time')"
   ]
  },
  {
   "cell_type": "code",
   "execution_count": 25,
   "metadata": {},
   "outputs": [
    {
     "name": "stdout",
     "output_type": "stream",
     "text": [
      "널이야\n"
     ]
    }
   ],
   "source": [
    "a = {}\n",
    "if a:\n",
    "    print(\"널이아냐\")\n",
    "else:\n",
    "    print(\"널이야\")"
   ]
  },
  {
   "cell_type": "code",
   "execution_count": 29,
   "metadata": {},
   "outputs": [
    {
     "data": {
      "text/plain": [
       "<QuerySet [{'time': datetime.time(0, 0), 'reserve__doctor__name': '김개똥'}, {'time': datetime.time(6, 0), 'reserve__doctor__name': '김개똥'}, {'time': datetime.time(18, 0), 'reserve__doctor__name': '김개똥'}]>"
      ]
     },
     "execution_count": 29,
     "metadata": {},
     "output_type": "execute_result"
    }
   ],
   "source": [
    "Time.objects.filter(hospital_id=1,reserve__date='2018-02-23',reserve__doctor_id=1).values('time','reserve__doctor__name')"
   ]
  },
  {
   "cell_type": "code",
   "execution_count": null,
   "metadata": {},
   "outputs": [],
   "source": []
  }
 ],
 "metadata": {
  "kernelspec": {
   "display_name": "Django Shell-Plus",
   "language": "python",
   "name": "django_extensions"
  },
  "language_info": {
   "codemirror_mode": {
    "name": "ipython",
    "version": 3
   },
   "file_extension": ".py",
   "mimetype": "text/x-python",
   "name": "python",
   "nbconvert_exporter": "python",
   "pygments_lexer": "ipython3",
   "version": "3.6.3"
  }
 },
 "nbformat": 4,
 "nbformat_minor": 2
}
