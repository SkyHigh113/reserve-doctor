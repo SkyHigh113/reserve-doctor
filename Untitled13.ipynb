{
 "cells": [
  {
   "cell_type": "code",
   "execution_count": 14,
   "metadata": {},
   "outputs": [
    {
     "data": {
      "text/plain": [
       "<QuerySet [{'date': datetime.date(2018, 2, 22), 'time': 2, 'doctor__name': '김개똥'}, {'date': datetime.date(2018, 2, 22), 'time': 1, 'doctor__name': '김개똥'}, {'date': datetime.date(2018, 2, 23), 'time': 1, 'doctor__name': '김개똥'}, {'date': datetime.date(2018, 2, 23), 'time': 3, 'doctor__name': '김개똥'}, {'date': datetime.date(2018, 2, 25), 'time': 2, 'doctor__name': '김개똥'}, {'date': datetime.date(2018, 2, 23), 'time': 5, 'doctor__name': '김개똥'}, {'date': datetime.date(2018, 2, 27), 'time': 1, 'doctor__name': '김개똥'}, {'date': datetime.date(2018, 2, 24), 'time': 1, 'doctor__name': '김개똥'}]>"
      ]
     },
     "execution_count": 14,
     "metadata": {},
     "output_type": "execute_result"
    }
   ],
   "source": [
    "Reserve.objects.filter(hospital_id=1).values('date','time','doctor__name')"
   ]
  },
  {
   "cell_type": "code",
   "execution_count": 13,
   "metadata": {},
   "outputs": [
    {
     "data": {
      "text/plain": [
       "<QuerySet [<Doctor: 김개똥>, <Doctor: 김이빈>, <Doctor: 김피부>, <Doctor: 김소아>]>"
      ]
     },
     "execution_count": 13,
     "metadata": {},
     "output_type": "execute_result"
    }
   ],
   "source": [
    "Doctor.objects.all()"
   ]
  },
  {
   "cell_type": "code",
   "execution_count": null,
   "metadata": {},
   "outputs": [],
   "source": []
  }
 ],
 "metadata": {
  "kernelspec": {
   "display_name": "Django Shell-Plus",
   "language": "python",
   "name": "django_extensions"
  },
  "language_info": {
   "codemirror_mode": {
    "name": "ipython",
    "version": 3
   },
   "file_extension": ".py",
   "mimetype": "text/x-python",
   "name": "python",
   "nbconvert_exporter": "python",
   "pygments_lexer": "ipython3",
   "version": "3.6.3"
  }
 },
 "nbformat": 4,
 "nbformat_minor": 2
}
