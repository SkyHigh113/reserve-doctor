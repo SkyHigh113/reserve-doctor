{
 "cells": [
  {
   "cell_type": "code",
   "execution_count": 2,
   "metadata": {},
   "outputs": [
    {
     "name": "stdout",
     "output_type": "stream",
     "text": [
      "<QuerySet [(datetime.time(0, 0),)]>\n"
     ]
    }
   ],
   "source": [
    "reserved_list = Time.objects.filter(hospital_id=1,reserve__date='2018-02-22').values('time')\n",
    "exclude_list = Time.objects.filter(hospital_id=1).exclude(time__in=reserved_list).values_list('time')\n",
    "print(exclude_list)"
   ]
  },
  {
   "cell_type": "code",
   "execution_count": 13,
   "metadata": {},
   "outputs": [],
   "source": [
    "list(exclude_list)\n",
    "def myconverter(o):\n",
    "    if isinstance(o, datetime.time):\n",
    "        return o.__str__()"
   ]
  },
  {
   "cell_type": "code",
   "execution_count": 19,
   "metadata": {},
   "outputs": [
    {
     "name": "stdout",
     "output_type": "stream",
     "text": [
      "[(datetime.time(0, 0),)]\n",
      "[[\"00:00:00\"]]\n"
     ]
    }
   ],
   "source": [
    "from django.core import serializers\n",
    "import json\n",
    "import datetime\n",
    "\n",
    "print(list(exclude_list))\n",
    "print(json.dumps(list(exclude_list),default=myconverter))"
   ]
  },
  {
   "cell_type": "code",
   "execution_count": null,
   "metadata": {},
   "outputs": [],
   "source": []
  }
 ],
 "metadata": {
  "kernelspec": {
   "display_name": "Django Shell-Plus",
   "language": "python",
   "name": "django_extensions"
  },
  "language_info": {
   "codemirror_mode": {
    "name": "ipython",
    "version": 3
   },
   "file_extension": ".py",
   "mimetype": "text/x-python",
   "name": "python",
   "nbconvert_exporter": "python",
   "pygments_lexer": "ipython3",
   "version": "3.6.3"
  }
 },
 "nbformat": 4,
 "nbformat_minor": 2
}
