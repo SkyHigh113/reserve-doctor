{
 "cells": [
  {
   "cell_type": "code",
   "execution_count": 2,
   "metadata": {},
   "outputs": [
    {
     "data": {
      "text/plain": [
       "<QuerySet [{'id': 13, 'hospital_id': 1, 'user_id': 1, 'date': datetime.date(2018, 3, 8), 'time_id': 3, 'doctor_id': 1, 'created_at': datetime.datetime(2018, 3, 2, 16, 23, 7, 226171, tzinfo=<UTC>)}, {'id': 14, 'hospital_id': 1, 'user_id': 1, 'date': datetime.date(2018, 3, 8), 'time_id': 2, 'doctor_id': 1, 'created_at': datetime.datetime(2018, 3, 2, 16, 27, 12, 383023, tzinfo=<UTC>)}, {'id': 16, 'hospital_id': 1, 'user_id': 1, 'date': datetime.date(2018, 3, 7), 'time_id': 2, 'doctor_id': 1, 'created_at': datetime.datetime(2018, 3, 3, 15, 26, 24, 252507, tzinfo=<UTC>)}, {'id': 18, 'hospital_id': 1, 'user_id': 1, 'date': datetime.date(2018, 3, 6), 'time_id': 4, 'doctor_id': 1, 'created_at': datetime.datetime(2018, 3, 3, 16, 6, 14, 222768, tzinfo=<UTC>)}, {'id': 17, 'hospital_id': 1, 'user_id': 1, 'date': datetime.date(2018, 3, 6), 'time_id': 3, 'doctor_id': 1, 'created_at': datetime.datetime(2018, 3, 3, 16, 5, 49, 644425, tzinfo=<UTC>)}, {'id': 15, 'hospital_id': 1, 'user_id': 1, 'date': datetime.date(2018, 3, 6), 'time_id': 2, 'doctor_id': 1, 'created_at': datetime.datetime(2018, 3, 3, 6, 42, 42, 704168, tzinfo=<UTC>)}, {'id': 12, 'hospital_id': 1, 'user_id': 1, 'date': datetime.date(2018, 3, 5), 'time_id': 2, 'doctor_id': 1, 'created_at': datetime.datetime(2018, 3, 2, 16, 18, 9, 604383, tzinfo=<UTC>)}, {'id': 11, 'hospital_id': 1, 'user_id': 1, 'date': datetime.date(2018, 3, 4), 'time_id': 2, 'doctor_id': 1, 'created_at': datetime.datetime(2018, 3, 2, 9, 8, 0, 473224, tzinfo=<UTC>)}, {'id': 10, 'hospital_id': 1, 'user_id': 1, 'date': datetime.date(2018, 3, 3), 'time_id': 3, 'doctor_id': 1, 'created_at': datetime.datetime(2018, 3, 2, 9, 0, 52, 709414, tzinfo=<UTC>)}]>"
      ]
     },
     "execution_count": 2,
     "metadata": {},
     "output_type": "execute_result"
    }
   ],
   "source": [
    "Reserve.objects.all().values()"
   ]
  },
  {
   "cell_type": "code",
   "execution_count": 5,
   "metadata": {},
   "outputs": [
    {
     "data": {
      "text/plain": [
       "True"
      ]
     },
     "execution_count": 5,
     "metadata": {},
     "output_type": "execute_result"
    }
   ],
   "source": [
    "Reserve.objects.filter(hospital=1,doctor=1,time=4,date='2018-03-06').exists()"
   ]
  },
  {
   "cell_type": "code",
   "execution_count": null,
   "metadata": {
    "collapsed": true
   },
   "outputs": [],
   "source": []
  }
 ],
 "metadata": {
  "kernelspec": {
   "display_name": "Django Shell-Plus",
   "language": "python",
   "name": "django_extensions"
  },
  "language_info": {
   "codemirror_mode": {
    "name": "ipython",
    "version": 3
   },
   "file_extension": ".py",
   "mimetype": "text/x-python",
   "name": "python",
   "nbconvert_exporter": "python",
   "pygments_lexer": "ipython3",
   "version": "3.6.3"
  }
 },
 "nbformat": 4,
 "nbformat_minor": 2
}
