{
 "cells": [
  {
   "cell_type": "code",
   "execution_count": 53,
   "metadata": {},
   "outputs": [
    {
     "name": "stdout",
     "output_type": "stream",
     "text": [
      "['<QuerySet [(datetime.time(6, 0),)]>', '<QuerySet [(datetime.time(0, 0),)]>']\n"
     ]
    }
   ],
   "source": [
    "from datetime import date,time\n",
    "qs = Reserve.objects.filter(hospital=1,date=date(2018,2,19))\n",
    "appendQueryset = []\n",
    "for item in qs:\n",
    "    appendQueryset.append(item.item_set.values_list('time'))\n",
    "\n",
    "print(appendQueryset)"
   ]
  },
  {
   "cell_type": "code",
   "execution_count": 39,
   "metadata": {},
   "outputs": [
    {
     "data": {
      "text/plain": [
       "<QuerySet [<Time: 18:00:00>, <Time: 00:00:00>]>"
      ]
     },
     "execution_count": 39,
     "metadata": {},
     "output_type": "execute_result"
    }
   ],
   "source": [
    "\n",
    "#Time.objects.filter(hospital=1).exclude(time__in=[\"06:00:00\"])\n",
    "Time.objects.filter(hospital=1).exclude(time__in=[\"06:00:00\"])"
   ]
  },
  {
   "cell_type": "code",
   "execution_count": null,
   "metadata": {},
   "outputs": [],
   "source": []
  }
 ],
 "metadata": {
  "kernelspec": {
   "display_name": "Django Shell-Plus",
   "language": "python",
   "name": "django_extensions"
  },
  "language_info": {
   "codemirror_mode": {
    "name": "ipython",
    "version": 3
   },
   "file_extension": ".py",
   "mimetype": "text/x-python",
   "name": "python",
   "nbconvert_exporter": "python",
   "pygments_lexer": "ipython3",
   "version": "3.6.3"
  }
 },
 "nbformat": 4,
 "nbformat_minor": 2
}
